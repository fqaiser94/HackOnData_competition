{
 "cells": [
  {
   "cell_type": "markdown",
   "metadata": {},
   "source": [
    "# Admin"
   ]
  },
  {
   "cell_type": "markdown",
   "metadata": {},
   "source": [
    "Parameters"
   ]
  },
  {
   "cell_type": "code",
   "execution_count": 1,
   "metadata": {
    "collapsed": true
   },
   "outputs": [],
   "source": [
    "#root_input_loc = 'C:\\\\Users\\\\fmqai\\OneDrive\\\\Projects\\\\HackOn(Data)\\\\Competition\\\\Raw data\\\\'\n",
    "root_input_loc = 'D:\\\\Raw data\\\\'"
   ]
  },
  {
   "cell_type": "markdown",
   "metadata": {},
   "source": [
    "Libraries"
   ]
  },
  {
   "cell_type": "code",
   "execution_count": 2,
   "metadata": {
    "collapsed": false
   },
   "outputs": [],
   "source": [
    "import os\n",
    "import pandas as pd\n",
    "import math\n",
    "import gzip\n",
    "import numpy as np\n",
    "import scipy.stats as stats\n",
    "from scipy.sparse import csc_matrix, csr_matrix\n",
    "import matplotlib.pyplot as plt\n",
    "from sklearn.metrics.pairwise import cosine_similarity\n",
    "from pyspark.mllib.recommendation import ALS, MatrixFactorizationModel, Rating\n",
    "import seaborn as sns; sns.set(style=\"white\", color_codes=True)\n",
    "import warnings \n",
    "import missingno"
   ]
  },
  {
   "cell_type": "markdown",
   "metadata": {},
   "source": [
    "Other settings"
   ]
  },
  {
   "cell_type": "code",
   "execution_count": 3,
   "metadata": {
    "collapsed": false
   },
   "outputs": [],
   "source": [
    "%matplotlib inline\n",
    "warnings.filterwarnings(\"ignore\")"
   ]
  },
  {
   "cell_type": "markdown",
   "metadata": {},
   "source": [
    "# Load data"
   ]
  },
  {
   "cell_type": "markdown",
   "metadata": {
    "collapsed": true
   },
   "source": [
    "Import reviews data"
   ]
  },
  {
   "cell_type": "code",
   "execution_count": 4,
   "metadata": {
    "collapsed": false
   },
   "outputs": [],
   "source": [
    "import pandas as pd\n",
    "import gzip\n",
    "\n",
    "def parse(path):\n",
    "  g = gzip.open(path, 'rb')\n",
    "  for l in g:\n",
    "    yield eval(l)\n",
    "\n",
    "def getDF(path):\n",
    "  i = 0\n",
    "  df = {}\n",
    "  for d in parse(path):\n",
    "    df[i] = d\n",
    "    i += 1\n",
    "    \n",
    "    if i > 50000:\n",
    "         break\n",
    "    else:\n",
    "        continue\n",
    "  return pd.DataFrame.from_dict(df, orient='index')"
   ]
  },
  {
   "cell_type": "code",
   "execution_count": 5,
   "metadata": {
    "collapsed": false
   },
   "outputs": [],
   "source": [
    "#reviews_df = getDF(root_input_loc + 'reviews_Books_5.json.gz')\n",
    "\n",
    "# some data cleaning\n",
    "#reviews_df['unixReviewTime'] = pd.to_datetime(reviews_df['unixReviewTime'],unit='s') #changing time format\n",
    "#reviews_df.rename(columns={'unixReviewTime': 'reviewTime', 'asin': 'productID'}, inplace=True)"
   ]
  },
  {
   "cell_type": "code",
   "execution_count": 6,
   "metadata": {
    "collapsed": false
   },
   "outputs": [],
   "source": [
    "#reviews_df.head()"
   ]
  },
  {
   "cell_type": "markdown",
   "metadata": {},
   "source": [
    "Import ratings data"
   ]
  },
  {
   "cell_type": "code",
   "execution_count": 7,
   "metadata": {
    "collapsed": false
   },
   "outputs": [],
   "source": [
    "ratings_df = pd.read_csv(filepath_or_buffer = root_input_loc + 'ratings_Books.csv'\n",
    "                         , header=None\n",
    "                         , names = ['user', 'productID', 'rating', 'timestamp']\n",
    "                         , nrows = 50000)"
   ]
  },
  {
   "cell_type": "code",
   "execution_count": 8,
   "metadata": {
    "collapsed": false
   },
   "outputs": [
    {
     "data": {
      "text/html": [
       "<div>\n",
       "<table border=\"1\" class=\"dataframe\">\n",
       "  <thead>\n",
       "    <tr style=\"text-align: right;\">\n",
       "      <th></th>\n",
       "      <th>user</th>\n",
       "      <th>productID</th>\n",
       "      <th>rating</th>\n",
       "      <th>timestamp</th>\n",
       "    </tr>\n",
       "  </thead>\n",
       "  <tbody>\n",
       "    <tr>\n",
       "      <th>0</th>\n",
       "      <td>AH2L9G3DQHHAJ</td>\n",
       "      <td>0000000116</td>\n",
       "      <td>4.0</td>\n",
       "      <td>1019865600</td>\n",
       "    </tr>\n",
       "    <tr>\n",
       "      <th>1</th>\n",
       "      <td>A2IIIDRK3PRRZY</td>\n",
       "      <td>0000000116</td>\n",
       "      <td>1.0</td>\n",
       "      <td>1395619200</td>\n",
       "    </tr>\n",
       "    <tr>\n",
       "      <th>2</th>\n",
       "      <td>A1TADCM7YWPQ8M</td>\n",
       "      <td>0000000868</td>\n",
       "      <td>4.0</td>\n",
       "      <td>1031702400</td>\n",
       "    </tr>\n",
       "    <tr>\n",
       "      <th>3</th>\n",
       "      <td>AWGH7V0BDOJKB</td>\n",
       "      <td>0000013714</td>\n",
       "      <td>4.0</td>\n",
       "      <td>1383177600</td>\n",
       "    </tr>\n",
       "    <tr>\n",
       "      <th>4</th>\n",
       "      <td>A3UTQPQPM4TQO0</td>\n",
       "      <td>0000013714</td>\n",
       "      <td>5.0</td>\n",
       "      <td>1374883200</td>\n",
       "    </tr>\n",
       "  </tbody>\n",
       "</table>\n",
       "</div>"
      ],
      "text/plain": [
       "             user   productID  rating   timestamp\n",
       "0   AH2L9G3DQHHAJ  0000000116     4.0  1019865600\n",
       "1  A2IIIDRK3PRRZY  0000000116     1.0  1395619200\n",
       "2  A1TADCM7YWPQ8M  0000000868     4.0  1031702400\n",
       "3   AWGH7V0BDOJKB  0000013714     4.0  1383177600\n",
       "4  A3UTQPQPM4TQO0  0000013714     5.0  1374883200"
      ]
     },
     "execution_count": 8,
     "metadata": {},
     "output_type": "execute_result"
    }
   ],
   "source": [
    "ratings_df.head()"
   ]
  },
  {
   "cell_type": "markdown",
   "metadata": {},
   "source": [
    "Import meta data"
   ]
  },
  {
   "cell_type": "code",
   "execution_count": 9,
   "metadata": {
    "collapsed": false
   },
   "outputs": [],
   "source": [
    "meta_df = getDF(root_input_loc + 'meta_Books.json.gz')\n",
    "\n",
    "meta_df.rename(columns={'asin': 'productID'}, inplace=True)"
   ]
  },
  {
   "cell_type": "code",
   "execution_count": 10,
   "metadata": {
    "collapsed": false
   },
   "outputs": [
    {
     "data": {
      "text/html": [
       "<div>\n",
       "<table border=\"1\" class=\"dataframe\">\n",
       "  <thead>\n",
       "    <tr style=\"text-align: right;\">\n",
       "      <th></th>\n",
       "      <th>productID</th>\n",
       "      <th>salesRank</th>\n",
       "      <th>imUrl</th>\n",
       "      <th>categories</th>\n",
       "      <th>title</th>\n",
       "      <th>description</th>\n",
       "      <th>price</th>\n",
       "      <th>related</th>\n",
       "    </tr>\n",
       "  </thead>\n",
       "  <tbody>\n",
       "    <tr>\n",
       "      <th>0</th>\n",
       "      <td>0001048791</td>\n",
       "      <td>{'Books': 6334800}</td>\n",
       "      <td>http://ecx.images-amazon.com/images/I/51MKP0T4...</td>\n",
       "      <td>[[Books]]</td>\n",
       "      <td>The Crucible: Performed by Stuart Pankin, Jero...</td>\n",
       "      <td>NaN</td>\n",
       "      <td>NaN</td>\n",
       "      <td>NaN</td>\n",
       "    </tr>\n",
       "    <tr>\n",
       "      <th>1</th>\n",
       "      <td>0001048775</td>\n",
       "      <td>{'Books': 13243226}</td>\n",
       "      <td>http://ecx.images-amazon.com/images/I/5166EBHD...</td>\n",
       "      <td>[[Books]]</td>\n",
       "      <td>Measure for Measure: Complete &amp;amp; Unabridged</td>\n",
       "      <td>William Shakespeare is widely regarded as the ...</td>\n",
       "      <td>NaN</td>\n",
       "      <td>NaN</td>\n",
       "    </tr>\n",
       "    <tr>\n",
       "      <th>2</th>\n",
       "      <td>0001048236</td>\n",
       "      <td>{'Books': 8973864}</td>\n",
       "      <td>http://ecx.images-amazon.com/images/I/51DH145C...</td>\n",
       "      <td>[[Books]]</td>\n",
       "      <td>The Sherlock Holmes Audio Collection</td>\n",
       "      <td>&amp;#34;One thing is certain, Sherlockians, put a...</td>\n",
       "      <td>9.26</td>\n",
       "      <td>{'also_viewed': ['1442300191', '9626349786', '...</td>\n",
       "    </tr>\n",
       "    <tr>\n",
       "      <th>3</th>\n",
       "      <td>0000401048</td>\n",
       "      <td>{'Books': 6448843}</td>\n",
       "      <td>http://ecx.images-amazon.com/images/I/41bchvIf...</td>\n",
       "      <td>[[Books]]</td>\n",
       "      <td>The rogue of publishers' row;: Confessions of ...</td>\n",
       "      <td>NaN</td>\n",
       "      <td>NaN</td>\n",
       "      <td>{'also_viewed': ['068240103X']}</td>\n",
       "    </tr>\n",
       "    <tr>\n",
       "      <th>4</th>\n",
       "      <td>0001019880</td>\n",
       "      <td>{'Books': 9589258}</td>\n",
       "      <td>http://ecx.images-amazon.com/images/I/61LcHUdv...</td>\n",
       "      <td>[[Books]]</td>\n",
       "      <td>Classic Soul Winner's New Testament Bible</td>\n",
       "      <td>NaN</td>\n",
       "      <td>5.39</td>\n",
       "      <td>{'also_viewed': ['B003HMB5FC', '0834004593'], ...</td>\n",
       "    </tr>\n",
       "  </tbody>\n",
       "</table>\n",
       "</div>"
      ],
      "text/plain": [
       "    productID            salesRank  \\\n",
       "0  0001048791   {'Books': 6334800}   \n",
       "1  0001048775  {'Books': 13243226}   \n",
       "2  0001048236   {'Books': 8973864}   \n",
       "3  0000401048   {'Books': 6448843}   \n",
       "4  0001019880   {'Books': 9589258}   \n",
       "\n",
       "                                               imUrl categories  \\\n",
       "0  http://ecx.images-amazon.com/images/I/51MKP0T4...  [[Books]]   \n",
       "1  http://ecx.images-amazon.com/images/I/5166EBHD...  [[Books]]   \n",
       "2  http://ecx.images-amazon.com/images/I/51DH145C...  [[Books]]   \n",
       "3  http://ecx.images-amazon.com/images/I/41bchvIf...  [[Books]]   \n",
       "4  http://ecx.images-amazon.com/images/I/61LcHUdv...  [[Books]]   \n",
       "\n",
       "                                               title  \\\n",
       "0  The Crucible: Performed by Stuart Pankin, Jero...   \n",
       "1     Measure for Measure: Complete &amp; Unabridged   \n",
       "2               The Sherlock Holmes Audio Collection   \n",
       "3  The rogue of publishers' row;: Confessions of ...   \n",
       "4          Classic Soul Winner's New Testament Bible   \n",
       "\n",
       "                                         description  price  \\\n",
       "0                                                NaN    NaN   \n",
       "1  William Shakespeare is widely regarded as the ...    NaN   \n",
       "2  &#34;One thing is certain, Sherlockians, put a...   9.26   \n",
       "3                                                NaN    NaN   \n",
       "4                                                NaN   5.39   \n",
       "\n",
       "                                             related  \n",
       "0                                                NaN  \n",
       "1                                                NaN  \n",
       "2  {'also_viewed': ['1442300191', '9626349786', '...  \n",
       "3                    {'also_viewed': ['068240103X']}  \n",
       "4  {'also_viewed': ['B003HMB5FC', '0834004593'], ...  "
      ]
     },
     "execution_count": 10,
     "metadata": {},
     "output_type": "execute_result"
    }
   ],
   "source": [
    "meta_df.head()"
   ]
  },
  {
   "cell_type": "code",
   "execution_count": 11,
   "metadata": {
    "collapsed": false
   },
   "outputs": [
    {
     "data": {
      "text/plain": [
       "productID      35979\n",
       "salesRank      35950\n",
       "imUrl          35875\n",
       "categories     35979\n",
       "title          35979\n",
       "description    35979\n",
       "price          31558\n",
       "related        31702\n",
       "dtype: int64"
      ]
     },
     "execution_count": 11,
     "metadata": {},
     "output_type": "execute_result"
    }
   ],
   "source": [
    "# find out how many rows\n",
    "\n",
    "meta_df.count()\n",
    "\n",
    "# 50,001 rows in total\n",
    "# lets keep 35979 rows where description is not null\n",
    "\n",
    "# export \n",
    "meta_df_filtered = meta_df[meta_df.description.notnull()]\n",
    "\n",
    "meta_df_filtered.count()\n",
    "\n",
    "#meta_df_filtered.to_json(path_or_buf='C:\\\\Users\\\\fmqai\\\\Desktop\\\\meta_Books_filtered.json')\n",
    "#meta_df_filtered.to_csv(path_or_buf='C:\\\\Users\\\\fmqai\\\\Desktop\\\\meta_Books_filtered.csv')"
   ]
  },
  {
   "cell_type": "markdown",
   "metadata": {},
   "source": [
    "Import image features data"
   ]
  },
  {
   "cell_type": "code",
   "execution_count": 12,
   "metadata": {
    "collapsed": false
   },
   "outputs": [],
   "source": [
    "import struct\n",
    "\n",
    "def readImageFeatures(path):\n",
    "  f = open(path, 'rb')\n",
    "  while True:\n",
    "    asin = f.read(10)\n",
    "    if asin == '': break\n",
    "    feature = []\n",
    "    for i in range(4096):\n",
    "      feature.append(struct.unpack('f', f.read(4)))\n",
    "    yield asin, feature"
   ]
  },
  {
   "cell_type": "markdown",
   "metadata": {},
   "source": [
    "# EDA"
   ]
  },
  {
   "cell_type": "code",
   "execution_count": 15,
   "metadata": {
    "collapsed": false
   },
   "outputs": [],
   "source": [
    "all_data = pd.merge(ratings_df, meta_df, on=['productID'])\n",
    "all_data['timestamp'] = pd.to_datetime(all_data['timestamp'], unit='s')"
   ]
  },
  {
   "cell_type": "code",
   "execution_count": 16,
   "metadata": {
    "collapsed": false
   },
   "outputs": [
    {
     "data": {
      "text/html": [
       "<div>\n",
       "<table border=\"1\" class=\"dataframe\">\n",
       "  <thead>\n",
       "    <tr style=\"text-align: right;\">\n",
       "      <th></th>\n",
       "      <th>user</th>\n",
       "      <th>productID</th>\n",
       "      <th>rating</th>\n",
       "      <th>timestamp</th>\n",
       "      <th>salesRank</th>\n",
       "      <th>imUrl</th>\n",
       "      <th>categories</th>\n",
       "      <th>title</th>\n",
       "      <th>description</th>\n",
       "      <th>price</th>\n",
       "      <th>related</th>\n",
       "    </tr>\n",
       "  </thead>\n",
       "  <tbody>\n",
       "    <tr>\n",
       "      <th>0</th>\n",
       "      <td>AH2L9G3DQHHAJ</td>\n",
       "      <td>0000000116</td>\n",
       "      <td>4.0</td>\n",
       "      <td>2002-04-27</td>\n",
       "      <td>{'Books': 10790794}</td>\n",
       "      <td>http://ecx.images-amazon.com/images/I/51Rbg%2B...</td>\n",
       "      <td>[[Books]]</td>\n",
       "      <td>Georgina Goodman Nelson Womens Size 8.5 Purple...</td>\n",
       "      <td>NaN</td>\n",
       "      <td>NaN</td>\n",
       "      <td>{'also_viewed': ['B005U9T66K', 'B00602O7PG', '...</td>\n",
       "    </tr>\n",
       "    <tr>\n",
       "      <th>1</th>\n",
       "      <td>A2IIIDRK3PRRZY</td>\n",
       "      <td>0000000116</td>\n",
       "      <td>1.0</td>\n",
       "      <td>2014-03-24</td>\n",
       "      <td>{'Books': 10790794}</td>\n",
       "      <td>http://ecx.images-amazon.com/images/I/51Rbg%2B...</td>\n",
       "      <td>[[Books]]</td>\n",
       "      <td>Georgina Goodman Nelson Womens Size 8.5 Purple...</td>\n",
       "      <td>NaN</td>\n",
       "      <td>NaN</td>\n",
       "      <td>{'also_viewed': ['B005U9T66K', 'B00602O7PG', '...</td>\n",
       "    </tr>\n",
       "    <tr>\n",
       "      <th>2</th>\n",
       "      <td>A1TADCM7YWPQ8M</td>\n",
       "      <td>0000000868</td>\n",
       "      <td>4.0</td>\n",
       "      <td>2002-09-11</td>\n",
       "      <td>{'Books': 14161827}</td>\n",
       "      <td>http://ecx.images-amazon.com/images/I/41K1RtF0...</td>\n",
       "      <td>[[Books]]</td>\n",
       "      <td>Foot Rot of Piper nigrum. L. (Phytopathologica...</td>\n",
       "      <td>NaN</td>\n",
       "      <td>21.85</td>\n",
       "      <td>NaN</td>\n",
       "    </tr>\n",
       "    <tr>\n",
       "      <th>3</th>\n",
       "      <td>AWGH7V0BDOJKB</td>\n",
       "      <td>0000013714</td>\n",
       "      <td>4.0</td>\n",
       "      <td>2013-10-31</td>\n",
       "      <td>{'Books': 64393}</td>\n",
       "      <td>http://ecx.images-amazon.com/images/I/51M1p2do...</td>\n",
       "      <td>[[Books]]</td>\n",
       "      <td>Heavenly Highway Hymns: Shaped-Note Hymnal</td>\n",
       "      <td>NaN</td>\n",
       "      <td>8.09</td>\n",
       "      <td>{'also_bought': ['0005080789', '0005476798', '...</td>\n",
       "    </tr>\n",
       "    <tr>\n",
       "      <th>4</th>\n",
       "      <td>A3UTQPQPM4TQO0</td>\n",
       "      <td>0000013714</td>\n",
       "      <td>5.0</td>\n",
       "      <td>2013-07-27</td>\n",
       "      <td>{'Books': 64393}</td>\n",
       "      <td>http://ecx.images-amazon.com/images/I/51M1p2do...</td>\n",
       "      <td>[[Books]]</td>\n",
       "      <td>Heavenly Highway Hymns: Shaped-Note Hymnal</td>\n",
       "      <td>NaN</td>\n",
       "      <td>8.09</td>\n",
       "      <td>{'also_bought': ['0005080789', '0005476798', '...</td>\n",
       "    </tr>\n",
       "  </tbody>\n",
       "</table>\n",
       "</div>"
      ],
      "text/plain": [
       "             user   productID  rating  timestamp            salesRank  \\\n",
       "0   AH2L9G3DQHHAJ  0000000116     4.0 2002-04-27  {'Books': 10790794}   \n",
       "1  A2IIIDRK3PRRZY  0000000116     1.0 2014-03-24  {'Books': 10790794}   \n",
       "2  A1TADCM7YWPQ8M  0000000868     4.0 2002-09-11  {'Books': 14161827}   \n",
       "3   AWGH7V0BDOJKB  0000013714     4.0 2013-10-31     {'Books': 64393}   \n",
       "4  A3UTQPQPM4TQO0  0000013714     5.0 2013-07-27     {'Books': 64393}   \n",
       "\n",
       "                                               imUrl categories  \\\n",
       "0  http://ecx.images-amazon.com/images/I/51Rbg%2B...  [[Books]]   \n",
       "1  http://ecx.images-amazon.com/images/I/51Rbg%2B...  [[Books]]   \n",
       "2  http://ecx.images-amazon.com/images/I/41K1RtF0...  [[Books]]   \n",
       "3  http://ecx.images-amazon.com/images/I/51M1p2do...  [[Books]]   \n",
       "4  http://ecx.images-amazon.com/images/I/51M1p2do...  [[Books]]   \n",
       "\n",
       "                                               title description  price  \\\n",
       "0  Georgina Goodman Nelson Womens Size 8.5 Purple...         NaN    NaN   \n",
       "1  Georgina Goodman Nelson Womens Size 8.5 Purple...         NaN    NaN   \n",
       "2  Foot Rot of Piper nigrum. L. (Phytopathologica...         NaN  21.85   \n",
       "3         Heavenly Highway Hymns: Shaped-Note Hymnal         NaN   8.09   \n",
       "4         Heavenly Highway Hymns: Shaped-Note Hymnal         NaN   8.09   \n",
       "\n",
       "                                             related  \n",
       "0  {'also_viewed': ['B005U9T66K', 'B00602O7PG', '...  \n",
       "1  {'also_viewed': ['B005U9T66K', 'B00602O7PG', '...  \n",
       "2                                                NaN  \n",
       "3  {'also_bought': ['0005080789', '0005476798', '...  \n",
       "4  {'also_bought': ['0005080789', '0005476798', '...  "
      ]
     },
     "execution_count": 16,
     "metadata": {},
     "output_type": "execute_result"
    }
   ],
   "source": [
    "all_data.head(5)"
   ]
  },
  {
   "cell_type": "code",
   "execution_count": 26,
   "metadata": {
    "collapsed": false
   },
   "outputs": [
    {
     "data": {
      "image/png": "[encoded data removed]",
      "text/plain": [
       "<matplotlib.figure.Figure at 0x174c1f8ec88>"
      ]
     },
     "metadata": {},
     "output_type": "display_data"
    }
   ],
   "source": [
    "missingno.matrix(all_data, freq=False)"
   ]
  },
  {
   "cell_type": "code",
   "execution_count": 28,
   "metadata": {
    "collapsed": false
   },
   "outputs": [
    {
     "data": {
      "image/png": "[encoded data removed]",
      "text/plain": [
       "<matplotlib.figure.Figure at 0x174c218ceb8>"
      ]
     },
     "metadata": {},
     "output_type": "display_data"
    }
   ],
   "source": [
    "missingno.heatmap(all_data)"
   ]
  },
  {
   "cell_type": "code",
   "execution_count": null,
   "metadata": {
    "collapsed": true
   },
   "outputs": [],
   "source": [
    "null_pattern = (np.random.random(1000).reshape((50, 20)) > 0.5).astype(bool)\n",
    "null_pattern = pd.DataFrame(null_pattern).replace({False: None})\n",
    "msno.matrix(null_pattern.set_index(pd.period_range('1/1/2011', '2/1/2015', freq='M')) , freq='BQ')"
   ]
  },
  {
   "cell_type": "code",
   "execution_count": 29,
   "metadata": {
    "collapsed": false
   },
   "outputs": [
    {
     "data": {
      "image/png": "[encoded data removed]",
      "text/plain": [
       "<matplotlib.figure.Figure at 0x174c4f10160>"
      ]
     },
     "metadata": {},
     "output_type": "display_data"
    }
   ],
   "source": [
    "missingno.dendrogram(all_data)"
   ]
  },
  {
   "cell_type": "code",
   "execution_count": null,
   "metadata": {
    "collapsed": true
   },
   "outputs": [],
   "source": []
  },
  {
   "cell_type": "code",
   "execution_count": null,
   "metadata": {
    "collapsed": true
   },
   "outputs": [],
   "source": []
  },
  {
   "cell_type": "code",
   "execution_count": null,
   "metadata": {
    "collapsed": true
   },
   "outputs": [],
   "source": []
  },
  {
   "cell_type": "markdown",
   "metadata": {
    "collapsed": true
   },
   "source": [
    "# Data Preparation"
   ]
  },
  {
   "cell_type": "code",
   "execution_count": null,
   "metadata": {
    "collapsed": true
   },
   "outputs": [],
   "source": []
  },
  {
   "cell_type": "code",
   "execution_count": null,
   "metadata": {
    "collapsed": true
   },
   "outputs": [],
   "source": []
  },
  {
   "cell_type": "markdown",
   "metadata": {},
   "source": [
    "# Non-personalized RS"
   ]
  },
  {
   "cell_type": "markdown",
   "metadata": {},
   "source": [
    "This will be a popularity based model, i.e. all users get the same reccomendations based on the most popular choices. "
   ]
  },
  {
   "cell_type": "code",
   "execution_count": null,
   "metadata": {
    "collapsed": true
   },
   "outputs": [],
   "source": []
  },
  {
   "cell_type": "markdown",
   "metadata": {},
   "source": [
    "# CB RS"
   ]
  },
  {
   "cell_type": "code",
   "execution_count": 16,
   "metadata": {
    "collapsed": false
   },
   "outputs": [],
   "source": [
    "import pandas as pd\n",
    "import time\n",
    "import redis\n",
    "from flask import current_app\n",
    "from sklearn.feature_extraction.text import TfidfVectorizer\n",
    "from sklearn.metrics.pairwise import linear_kernel"
   ]
  },
  {
   "cell_type": "code",
   "execution_count": null,
   "metadata": {
    "collapsed": true
   },
   "outputs": [],
   "source": []
  },
  {
   "cell_type": "code",
   "execution_count": 19,
   "metadata": {
    "collapsed": true
   },
   "outputs": [],
   "source": [
    "def info(msg):\n",
    "    current_app.logger.info(msg)"
   ]
  },
  {
   "cell_type": "code",
   "execution_count": 22,
   "metadata": {
    "collapsed": false
   },
   "outputs": [],
   "source": [
    "class CBEngine(object):\n",
    "\n",
    "    SIMKEY = 'p:smlr:%s'\n",
    "\n",
    "    def __init__(self):\n",
    "        _self = self\n",
    "\n",
    "    def train(self, data_source):\n",
    "        start = time.time()\n",
    "        ds = pd.read_csv(data_source)\n",
    "        info(\"Training data ingested in %s seconds.\" % (time.time() - start))\n",
    "\n",
    "        start = time.time()\n",
    "        self._train(ds)\n",
    "        info(\"Engine trained in %s seconds.\" % (time.time() - start))\n",
    "\n",
    "    def _train(self, ds):\n",
    "        \"\"\"\n",
    "        Train the engine.\n",
    "\n",
    "        Create a TF-IDF matrix of unigrams, bigrams, and trigrams\n",
    "        for each product. The 'stop_words' param tells the TF-IDF\n",
    "        module to ignore common english words like 'the', etc.\n",
    "\n",
    "        Then we compute similarity between all products using\n",
    "        SciKit Leanr's linear_kernel (which in this case is\n",
    "        equivalent to cosine similarity).\n",
    "\n",
    "        Iterate through each item's similar items and store the\n",
    "        100 most-similar. Stops at 100 because well...  how many\n",
    "        similar products do you really need to show?\n",
    "\n",
    "        Similarities and their scores are stored in redis as a\n",
    "        Sorted Set, with one set for each item.\n",
    "\n",
    "        :param ds: A pandas dataset containing two fields: description & id\n",
    "        :return: Nothin!\n",
    "        \"\"\"\n",
    "\n",
    "        tf = TfidfVectorizer(analyzer='word',\n",
    "                             ngram_range=(1, 3),\n",
    "                             min_df=0,\n",
    "                             stop_words='english')\n",
    "        \n",
    "        tfidf_matrix = tf.fit_transform(ds['description'])\n",
    "\n",
    "        cosine_similarities = linear_kernel(tfidf_matrix, tfidf_matrix)\n",
    "\n",
    "        for idx, row in ds.iterrows():\n",
    "            similar_indices = cosine_similarities[idx].argsort()[:-100:-1]\n",
    "            similar_items = [(cosine_similarities[idx][i], ds['id'][i])\n",
    "                             for i in similar_indices]\n",
    "\n",
    "            # First item is the item itself, so remove it.\n",
    "            # This 'sum' is turns a list of tuples into a single tuple:\n",
    "            # [(1,2), (3,4)] -> (1,2,3,4)\n",
    "            flattened = sum(similar_items[1:], ())\n",
    "\n",
    "    def predict(self, item_id, num):\n",
    "        \"\"\"\n",
    "        Couldn't be simpler! Just retrieves the similar items and\n",
    "        their 'score' from redis.\n",
    "\n",
    "        :param item_id: string\n",
    "        :param num: number of similar items to return\n",
    "        :return: A list of lists like: [[\"19\", 0.2203],\n",
    "        [\"494\", 0.1693], ...]. The first item in each sub-list is\n",
    "        the item ID and the second is the similarity score. Sorted\n",
    "        by similarity score, descending.\n",
    "        \"\"\"\n",
    "\n",
    "        return self.zrange(self.SIMKEY % item_id,\n",
    "                              0,\n",
    "                              num-1,\n",
    "                              withscores=True,\n",
    "                              desc=True)\n",
    "\n",
    "content_engine = CBEngine()"
   ]
  },
  {
   "cell_type": "code",
   "execution_count": null,
   "metadata": {
    "collapsed": true
   },
   "outputs": [],
   "source": []
  },
  {
   "cell_type": "markdown",
   "metadata": {},
   "source": [
    "# ALS RS"
   ]
  },
  {
   "cell_type": "code",
   "execution_count": null,
   "metadata": {
    "collapsed": false
   },
   "outputs": [],
   "source": [
    "# first we need to turn user and product IDs into categorical variables\n",
    "reviews_df['reviewerID'] = reviews_df['reviewerID'].astype(\"category\")\n",
    "reviews_df['productID'] = reviews_df['productID'].astype(\"category\")"
   ]
  },
  {
   "cell_type": "code",
   "execution_count": null,
   "metadata": {
    "collapsed": false
   },
   "outputs": [],
   "source": [
    "# then create a sparse matrix of all the user/product/rating triples\n",
    "reviews_matrix = csr_matrix((reviews_df['overall'].astype(float), \n",
    "                   (reviews_df['reviewerID'].cat.codes,\n",
    "                    reviews_df['productID'].cat.codes \n",
    "                    )))"
   ]
  },
  {
   "cell_type": "code",
   "execution_count": null,
   "metadata": {
    "collapsed": false
   },
   "outputs": [],
   "source": [
    "h = reviews_matrix.toarray()\n",
    "rdd = sc.parallelize(h)\n",
    "rdd.getNumPartitions()\n",
    "ratings = rdd.map(lambda l: Rating(int(l[1]), int(l[2]), float(l[7])))"
   ]
  },
  {
   "cell_type": "code",
   "execution_count": null,
   "metadata": {
    "collapsed": true
   },
   "outputs": [],
   "source": [
    "def ALS_Spark(iterations, rank):\n",
    "    \"\"\"\n",
    "    Function to pipeline the alternative least squares (ALS) using different parameters.\n",
    "    Returns root mean square error (RMSE). \n",
    "    \n",
    "    'Rank' is the number of latent factors in the model and 'iterations' is the number of\n",
    "    of the model. \n",
    "    \n",
    "    :input: int\n",
    "    :output: float\n",
    "\n",
    "    \"\"\"\n",
    "    rank = rank\n",
    "    numIterations = iterations\n",
    "    model = ALS.train(ratings, rank, numIterations)\n",
    "    testdata = ratings.map(lambda p: (p[0], p[1]))\n",
    "    predictions = model.predictAll(testdata).map(lambda r: ((r[0], r[1]), r[2]))\n",
    "    ratesAndPreds = ratings.map(lambda r: ((r[0], r[1]), r[2])).join(predictions)\n",
    "\n",
    "    MSE = ratesAndPreds.map(lambda r: (r[1][0] - r[1][1])**2).mean()\n",
    "    RMSE = np.sqrt(MSE)\n",
    "    print \"Using number of ranks = \", rank\n",
    "    print \"Using number of iterations = \", numIterations\n",
    "    print(\"Mean Squared Error = \" + str(MSE))\n",
    "    print \"RMSE = \", RMSE, '\\n'\n",
    "    return RMSE"
   ]
  }
 ],
 "metadata": {
  "kernelspec": {
   "display_name": "Python 3",
   "language": "python",
   "name": "python3"
  },
  "language_info": {
   "codemirror_mode": {
    "name": "ipython",
    "version": 3
   },
   "file_extension": ".py",
   "mimetype": "text/x-python",
   "name": "python",
   "nbconvert_exporter": "python",
   "pygments_lexer": "ipython3",
   "version": "3.6.0"
  }
 },
 "nbformat": 4,
 "nbformat_minor": 0
}
